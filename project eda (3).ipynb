{
 "cells": [
  {
   "cell_type": "code",
   "execution_count": 55,
   "id": "40f26b17-2f45-4440-8300-988fbc096725",
   "metadata": {},
   "outputs": [],
   "source": [
    "import pandas as pd\n",
    "import numpy as np"
   ]
  },
  {
   "cell_type": "code",
   "execution_count": 57,
   "id": "b70cd5f4-36eb-4392-b161-88f9c1023cdf",
   "metadata": {},
   "outputs": [
    {
     "data": {
      "text/html": [
       "<div>\n",
       "<style scoped>\n",
       "    .dataframe tbody tr th:only-of-type {\n",
       "        vertical-align: middle;\n",
       "    }\n",
       "\n",
       "    .dataframe tbody tr th {\n",
       "        vertical-align: top;\n",
       "    }\n",
       "\n",
       "    .dataframe thead th {\n",
       "        text-align: right;\n",
       "    }\n",
       "</style>\n",
       "<table border=\"1\" class=\"dataframe\">\n",
       "  <thead>\n",
       "    <tr style=\"text-align: right;\">\n",
       "      <th></th>\n",
       "      <th>Date</th>\n",
       "      <th>Price</th>\n",
       "    </tr>\n",
       "  </thead>\n",
       "  <tbody>\n",
       "    <tr>\n",
       "      <th>0</th>\n",
       "      <td>2020-01-13</td>\n",
       "      <td>1798.0</td>\n",
       "    </tr>\n",
       "    <tr>\n",
       "      <th>1</th>\n",
       "      <td>2020-01-14</td>\n",
       "      <td>1809.0</td>\n",
       "    </tr>\n",
       "    <tr>\n",
       "      <th>2</th>\n",
       "      <td>2020-01-15</td>\n",
       "      <td>1801.0</td>\n",
       "    </tr>\n",
       "    <tr>\n",
       "      <th>3</th>\n",
       "      <td>2020-01-16</td>\n",
       "      <td>1812.0</td>\n",
       "    </tr>\n",
       "    <tr>\n",
       "      <th>4</th>\n",
       "      <td>2020-01-17</td>\n",
       "      <td>1805.0</td>\n",
       "    </tr>\n",
       "  </tbody>\n",
       "</table>\n",
       "</div>"
      ],
      "text/plain": [
       "         Date   Price\n",
       "0  2020-01-13  1798.0\n",
       "1  2020-01-14  1809.0\n",
       "2  2020-01-15  1801.0\n",
       "3  2020-01-16  1812.0\n",
       "4  2020-01-17  1805.0"
      ]
     },
     "execution_count": 57,
     "metadata": {},
     "output_type": "execute_result"
    }
   ],
   "source": [
    "df = pd.read_csv(\"Aluminium Historical Data.csv\")\n",
    "df.head()"
   ]
  },
  {
   "cell_type": "code",
   "execution_count": 59,
   "id": "3da1c5f2-7cf7-45ca-8e30-92bb130dc9af",
   "metadata": {},
   "outputs": [
    {
     "data": {
      "text/html": [
       "<div>\n",
       "<style scoped>\n",
       "    .dataframe tbody tr th:only-of-type {\n",
       "        vertical-align: middle;\n",
       "    }\n",
       "\n",
       "    .dataframe tbody tr th {\n",
       "        vertical-align: top;\n",
       "    }\n",
       "\n",
       "    .dataframe thead th {\n",
       "        text-align: right;\n",
       "    }\n",
       "</style>\n",
       "<table border=\"1\" class=\"dataframe\">\n",
       "  <thead>\n",
       "    <tr style=\"text-align: right;\">\n",
       "      <th></th>\n",
       "      <th>Date</th>\n",
       "      <th>Price</th>\n",
       "    </tr>\n",
       "  </thead>\n",
       "  <tbody>\n",
       "    <tr>\n",
       "      <th>1882</th>\n",
       "      <td>2025-03-09</td>\n",
       "      <td>2608.05</td>\n",
       "    </tr>\n",
       "    <tr>\n",
       "      <th>1883</th>\n",
       "      <td>2025-03-10</td>\n",
       "      <td>2608.05</td>\n",
       "    </tr>\n",
       "    <tr>\n",
       "      <th>1884</th>\n",
       "      <td>2025-03-11</td>\n",
       "      <td>2608.05</td>\n",
       "    </tr>\n",
       "    <tr>\n",
       "      <th>1885</th>\n",
       "      <td>2025-03-12</td>\n",
       "      <td>2608.05</td>\n",
       "    </tr>\n",
       "    <tr>\n",
       "      <th>1886</th>\n",
       "      <td>2025-03-13</td>\n",
       "      <td>2608.05</td>\n",
       "    </tr>\n",
       "  </tbody>\n",
       "</table>\n",
       "</div>"
      ],
      "text/plain": [
       "            Date    Price\n",
       "1882  2025-03-09  2608.05\n",
       "1883  2025-03-10  2608.05\n",
       "1884  2025-03-11  2608.05\n",
       "1885  2025-03-12  2608.05\n",
       "1886  2025-03-13  2608.05"
      ]
     },
     "execution_count": 59,
     "metadata": {},
     "output_type": "execute_result"
    }
   ],
   "source": [
    "df.tail()"
   ]
  },
  {
   "cell_type": "code",
   "execution_count": 61,
   "id": "224c762f-6041-453b-bded-34d458fb1b61",
   "metadata": {},
   "outputs": [
    {
     "name": "stdout",
     "output_type": "stream",
     "text": [
      "DatetimeIndex(['2020-01-02', '2020-01-03', '2020-01-06', '2020-01-07',\n",
      "               '2020-01-08', '2020-01-09', '2020-01-10', '2020-01-13',\n",
      "               '2020-01-14', '2020-01-15',\n",
      "               ...\n",
      "               '2025-02-28', '2025-03-03', '2025-03-04', '2025-03-05',\n",
      "               '2025-03-06', '2025-03-07', '2025-03-10', '2025-03-11',\n",
      "               '2025-03-12', '2025-03-13'],\n",
      "              dtype='datetime64[ns]', length=1356, freq='B')\n"
     ]
    }
   ],
   "source": [
    "all_business_days = pd.date_range(start='2020-01-02', end=pd.to_datetime(\"today\"), freq='B')\n",
    "print(all_business_days)"
   ]
  },
  {
   "cell_type": "code",
   "execution_count": 63,
   "id": "40a9daf9-4bcf-4aaa-be18-833df0b73332",
   "metadata": {},
   "outputs": [
    {
     "name": "stdout",
     "output_type": "stream",
     "text": [
      "         Date   Price\n",
      "0  2020-01-13  1798.0\n",
      "1  2020-01-14  1809.0\n",
      "2  2020-01-15  1801.0\n",
      "3  2020-01-16  1812.0\n",
      "4  2020-01-17  1805.0\n"
     ]
    }
   ],
   "source": [
    "df1 = df.iloc[:,[0,1]]\n",
    "print(df1.head())"
   ]
  },
  {
   "cell_type": "code",
   "execution_count": null,
   "id": "319e3723-7761-486e-b737-5f897fa88b8e",
   "metadata": {},
   "outputs": [],
   "source": []
  },
  {
   "cell_type": "code",
   "execution_count": 66,
   "id": "9b5aa2ff-5f9c-431a-894b-bc02f75dd3ca",
   "metadata": {},
   "outputs": [
    {
     "name": "stdout",
     "output_type": "stream",
     "text": [
      "<class 'pandas.core.frame.DataFrame'>\n",
      "RangeIndex: 1887 entries, 0 to 1886\n",
      "Data columns (total 2 columns):\n",
      " #   Column  Non-Null Count  Dtype  \n",
      "---  ------  --------------  -----  \n",
      " 0   Date    1887 non-null   object \n",
      " 1   Price   1887 non-null   float64\n",
      "dtypes: float64(1), object(1)\n",
      "memory usage: 29.6+ KB\n"
     ]
    }
   ],
   "source": [
    "df1.info()"
   ]
  },
  {
   "cell_type": "code",
   "execution_count": 68,
   "id": "47f1af7f-40a4-4894-bd64-bed5bda893e5",
   "metadata": {},
   "outputs": [],
   "source": [
    "import pandas as pd\n",
    "\n",
    "df2 = df1.copy()\n",
    "\n",
    "def parse_dates(date):\n",
    "    for fmt in (\"%Y-%m-%d\", \"%d-%m-%Y\", \"%d/%m/%Y\"):\n",
    "        try:\n",
    "            return pd.to_datetime(date, format=fmt)\n",
    "        except (ValueError, TypeError):\n",
    "            pass\n",
    "    return pd.NaT  # Correct indentation here\n",
    "\n",
    "df1[\"Date\"] = df1[\"Date\"].apply(parse_dates)  # Fixed quotes\n"
   ]
  },
  {
   "cell_type": "code",
   "execution_count": 70,
   "id": "3bef508b-e151-4141-a7d4-470687a9558a",
   "metadata": {},
   "outputs": [
    {
     "name": "stdout",
     "output_type": "stream",
     "text": [
      "<class 'pandas.core.frame.DataFrame'>\n",
      "RangeIndex: 1887 entries, 0 to 1886\n",
      "Data columns (total 2 columns):\n",
      " #   Column  Non-Null Count  Dtype         \n",
      "---  ------  --------------  -----         \n",
      " 0   Date    1887 non-null   datetime64[ns]\n",
      " 1   Price   1887 non-null   float64       \n",
      "dtypes: datetime64[ns](1), float64(1)\n",
      "memory usage: 29.6 KB\n"
     ]
    }
   ],
   "source": [
    "df1.info()"
   ]
  },
  {
   "cell_type": "code",
   "execution_count": 72,
   "id": "0053f7bd-68ab-41fd-be18-1d3b68cc2b1c",
   "metadata": {},
   "outputs": [],
   "source": [
    "merged_df1 = df1.copy()"
   ]
  },
  {
   "cell_type": "code",
   "execution_count": 74,
   "id": "a5374cd1-8817-4429-b906-7c036c3b4927",
   "metadata": {},
   "outputs": [
    {
     "name": "stdout",
     "output_type": "stream",
     "text": [
      "All dates are business days!\n",
      "<class 'pandas.core.frame.DataFrame'>\n",
      "RangeIndex: 1349 entries, 0 to 1348\n",
      "Data columns (total 2 columns):\n",
      " #   Column  Non-Null Count  Dtype         \n",
      "---  ------  --------------  -----         \n",
      " 0   Date    1349 non-null   datetime64[ns]\n",
      " 1   Price   1349 non-null   float64       \n",
      "dtypes: datetime64[ns](1), float64(1)\n",
      "memory usage: 21.2 KB\n"
     ]
    }
   ],
   "source": [
    "################## adding misssing dates #############\n",
    "\n",
    "\n",
    "\n",
    "start_date_row = merged_df1[merged_df1[\"Date\"] == merged_df1[\"Date\"].min()]\n",
    "end_date_row = merged_df1[merged_df1[\"Date\"] == merged_df1[\"Date\"].max()]\n",
    "# Generate full range of business days\n",
    "start_date = merged_df1[\"Date\"].min()\n",
    "end_date = merged_df1[\"Date\"].max()\n",
    "full_business_days = pd.date_range(start=start_date, end=end_date, freq=\"B\")  # 'B' means business days\n",
    "\n",
    "# Reindex DataFrame to include missing business days\n",
    "df_full = pd.DataFrame({\"Date\": full_business_days})\n",
    "df_merged = df_full.merge(merged_df1, on=\"Date\", how=\"left\")  # Merge to keep all business days\n",
    "\n",
    "df_merged[\"Is_Non_Business_Day\"] = df_merged[\"Date\"].dt.weekday >= 5  # Saturday=5, Sunday=6\n",
    "\n",
    "# Filter only non-business day rows\n",
    "non_business_days = df_merged[df_merged[\"Is_Non_Business_Day\"]]\n",
    "\n",
    "# Display the results\n",
    "if not non_business_days.empty:\n",
    "    print(\"Non-Business Days Found:\")\n",
    "    print(non_business_days[[\"Date\"]])\n",
    "else:\n",
    "    print(\"All dates are business days!\")\n",
    "\n",
    "\n",
    "df_merged1 = df_merged.drop(\"Is_Non_Business_Day\", axis=1)\n",
    "df_merged1.info()"
   ]
  },
  {
   "cell_type": "code",
   "execution_count": 76,
   "id": "b07e5d1b-9712-4b60-be9b-59a86d29ce54",
   "metadata": {},
   "outputs": [],
   "source": [
    "merged_df1 = merged_df1.ffill()\n"
   ]
  },
  {
   "cell_type": "code",
   "execution_count": 78,
   "id": "653ed9bf-aa13-4443-a0bf-c0a198cbc4ec",
   "metadata": {},
   "outputs": [
    {
     "name": "stdout",
     "output_type": "stream",
     "text": [
      "<class 'pandas.core.frame.DataFrame'>\n",
      "RangeIndex: 1887 entries, 0 to 1886\n",
      "Data columns (total 2 columns):\n",
      " #   Column  Non-Null Count  Dtype         \n",
      "---  ------  --------------  -----         \n",
      " 0   Date    1887 non-null   datetime64[ns]\n",
      " 1   Price   1887 non-null   float64       \n",
      "dtypes: datetime64[ns](1), float64(1)\n",
      "memory usage: 29.6 KB\n"
     ]
    }
   ],
   "source": [
    "merged_df1.info()"
   ]
  },
  {
   "cell_type": "code",
   "execution_count": 80,
   "id": "6303e9fe-bcdc-471b-80c6-b15c250cbbbd",
   "metadata": {},
   "outputs": [
    {
     "name": "stdout",
     "output_type": "stream",
     "text": [
      "Mean Price: 2349.804451510334\n",
      "Median Price: 2370.0\n"
     ]
    }
   ],
   "source": [
    "# Remove commas and convert to numeric\n",
    "merged_df1['Price'] = merged_df1['Price'].replace(',', '', regex=True).astype(float)\n",
    "\n",
    "# Now compute the mean and median\n",
    "mean_price = merged_df1['Price'].mean()\n",
    "median_price = merged_df1['Price'].median()\n",
    "\n",
    "print(\"Mean Price:\", mean_price)\n",
    "print(\"Median Price:\", median_price)\n"
   ]
  },
  {
   "cell_type": "code",
   "execution_count": 82,
   "id": "35b9348c-5b87-4d60-adb7-c76f11ee5e60",
   "metadata": {},
   "outputs": [
    {
     "name": "stdout",
     "output_type": "stream",
     "text": [
      "Variance: 170754.5732410436\n",
      "Standard Deviation: 413.2246038670055\n",
      "Skewness: 0.10743069217070753\n",
      "Kurtosis: 0.38198802093025463\n"
     ]
    }
   ],
   "source": [
    "variance = merged_df1['Price'].var()\n",
    "print(\"Variance:\", variance)\n",
    "\n",
    "\n",
    "std_dev = merged_df1['Price'].std()\n",
    "print(\"Standard Deviation:\", std_dev)\n",
    "\n",
    "\n",
    "skewness = merged_df1['Price'].skew()\n",
    "print(\"Skewness:\", skewness)\n",
    "\n",
    "\n",
    "kurtosis = merged_df1['Price'].kurtosis()\n",
    "print(\"Kurtosis:\", kurtosis)\n",
    "\n"
   ]
  },
  {
   "cell_type": "code",
   "execution_count": 84,
   "id": "7c0ac117-4857-40ab-9ab0-36da466891bd",
   "metadata": {},
   "outputs": [],
   "source": [
    "import matplotlib.pyplot as plt\n",
    "import seaborn as sns"
   ]
  },
  {
   "cell_type": "code",
   "execution_count": 86,
   "id": "147859cd-7f23-4b26-954e-6e021d0ed423",
   "metadata": {},
   "outputs": [
    {
     "data": {
      "image/png": "[encoded data removed]",
      "text/plain": [
       "<Figure size 800x500 with 1 Axes>"
      ]
     },
     "metadata": {},
     "output_type": "display_data"
    }
   ],
   "source": [
    "plt.figure(figsize=(8,5))\n",
    "sns.histplot(df['Price'], bins=30, kde=True, color='blue')  # KDE adds a smooth curve\n",
    "plt.xlabel(\"Price\")\n",
    "plt.ylabel(\"Frequency\")\n",
    "plt.title(\"Histogram of Aluminium Prices\")\n",
    "plt.show()\n"
   ]
  },
  {
   "cell_type": "code",
   "execution_count": 88,
   "id": "6bcb68cf-a702-4eec-b0a1-f9b53c5eacb3",
   "metadata": {
    "scrolled": true
   },
   "outputs": [
    {
     "data": {
      "image/png": "[encoded data removed]",
      "text/plain": [
       "<Figure size 600x400 with 1 Axes>"
      ]
     },
     "metadata": {},
     "output_type": "display_data"
    }
   ],
   "source": [
    "plt.figure(figsize=(6,4))\n",
    "sns.boxplot(y=df['Price'], color='green')\n",
    "plt.ylabel(\"Price\")\n",
    "plt.title(\"Boxplot of Aluminium Prices\")\n",
    "plt.show()\n"
   ]
  },
  {
   "cell_type": "code",
   "execution_count": null,
   "id": "e9a81478-78ea-48bc-bed0-c31c59ed0e70",
   "metadata": {},
   "outputs": [],
   "source": [
    "# Compute median price\n",
    "median_price = df_outlier[\"Price\"].median()\n",
    "\n",
    "# Replace outliers with the median\n",
    "df_outlier[\"Price\"] = df_outlier[\"Price\"].apply(lambda x: median_price if (x < lower_bound or x > upper_bound) else x)\n",
    "\n",
    "# Save the updated dataset\n",
    "cleaned_outlier_file = \"/mnt/data/Aluminium_Historical_Data_No_Outliers.csv\"\n",
    "df_outlier.to_csv(cleaned_outlier_file, index=False)\n",
    "\n",
    "# Provide the download link\n",
    "cleaned_outlier_file"
   ]
  },
  {
   "cell_type": "code",
   "execution_count": 91,
   "id": "517737bf-bc64-4320-bb9c-98af3a4dcfcf",
   "metadata": {},
   "outputs": [
    {
     "name": "stdout",
     "output_type": "stream",
     "text": [
      "         Date   Price\n",
      "0  2020-01-13  1798.0\n",
      "1  2020-01-14  1809.0\n",
      "2  2020-01-15  1801.0\n",
      "3  2020-01-16  1812.0\n",
      "4  2020-01-17  1805.0\n",
      "Missing dates added, and file saved as 'Aluminium_Historical_Data_Filled.csv'\n"
     ]
    },
    {
     "name": "stderr",
     "output_type": "stream",
     "text": [
      "C:\\Users\\User\\AppData\\Local\\Temp\\ipykernel_3196\\3582582477.py:10: UserWarning: Parsing dates in %Y-%m-%d format when dayfirst=True was specified. Pass `dayfirst=False` or specify a format to silence this warning.\n",
      "  df['Date'] = pd.to_datetime(df['Date'], errors='coerce', dayfirst=True)\n"
     ]
    }
   ],
   "source": [
    "import pandas as pd\n",
    "\n",
    "# Load dataset\n",
    "df = pd.read_csv(\"Aluminium Historical Data.csv\")\n",
    "\n",
    "# Inspect the first few rows\n",
    "print(df.head())\n",
    "\n",
    "# Convert 'Date' column to datetime format, handling mixed formats\n",
    "df['Date'] = pd.to_datetime(df['Date'], errors='coerce', dayfirst=True)\n",
    "\n",
    "# Generate a complete range of business days\n",
    "all_business_days = pd.date_range(start='2020-01-01', end=pd.to_datetime(\"today\"), freq='B')\n",
    "\n",
    "# Create a new DataFrame with all business days\n",
    "full_df = pd.DataFrame({'Date': all_business_days})\n",
    "\n",
    "# Merge with the original dataset\n",
    "df_filled = full_df.merge(df, on='Date', how='left')\n",
    "\n",
    "# Save the updated dataset\n",
    "df_filled.to_csv(\"Aluminium_Historical_Data_Filled.csv\", index=False)\n",
    "\n",
    "print(\"Missing dates added, and file saved as 'Aluminium_Historical_Data_Filled.csv'\")\n",
    "\n",
    "\n"
   ]
  },
  {
   "cell_type": "code",
   "execution_count": 93,
   "id": "29edf888-a357-4304-a73b-4e74668427f8",
   "metadata": {},
   "outputs": [
    {
     "name": "stdout",
     "output_type": "stream",
     "text": [
      "<class 'pandas.core.frame.DataFrame'>\n",
      "RangeIndex: 1357 entries, 0 to 1356\n",
      "Data columns (total 2 columns):\n",
      " #   Column  Non-Null Count  Dtype         \n",
      "---  ------  --------------  -----         \n",
      " 0   Date    1357 non-null   datetime64[ns]\n",
      " 1   Price   1349 non-null   float64       \n",
      "dtypes: datetime64[ns](1), float64(1)\n",
      "memory usage: 21.3 KB\n"
     ]
    }
   ],
   "source": [
    "df_filled.info()"
   ]
  },
  {
   "cell_type": "code",
   "execution_count": null,
   "id": "f8e309c2-f705-47c1-9ca2-314e2e46860e",
   "metadata": {},
   "outputs": [],
   "source": [
    "// here we used interpolation technique to remove outliers//\n",
    "\n",
    "import pandas as pd\n",
    "import numpy as np\n",
    "\n",
    "# Load the dataset\n",
    "file_path = \"Aluminium_Historical_Data.csv\"  # Update with your file path\n",
    "df = pd.read_csv(file_path)\n",
    "\n",
    "# Convert Date to datetime format\n",
    "df[\"Date\"] = pd.to_datetime(df[\"Date\"])\n",
    "\n",
    "# Convert Price column to numeric (handling potential formatting issues)\n",
    "df[\"Price\"] = df[\"Price\"].astype(str).str.replace(\",\", \"\").astype(float)\n",
    "\n",
    "# Sort by Date to ensure proper interpolation\n",
    "df =df.sort_values(by=\"Date\")\n",
    "\n",
    "# Calculate IQR for outlier detection\n",
    "Q1 = df[\"Price\"].quantile(0.25)\n",
    "Q3 = df[\"Price\"].quantile(0.75)\n",
    "IQR = Q3 - Q1\n",
    "\n",
    "# Define outlier bounds\n",
    "lower_bound = Q1 - 1.5 * IQR\n",
    "upper_bound = Q3 + 1.5 * IQR\n",
    "\n",
    "# Replace outliers with NaN\n",
    "df[\"Price\"] = df[\"Price\"].mask((df[\"Price\"] < lower_bound) | (df[\"Price\"] > upper_bound), np.nan)\n",
    "\n",
    "# Apply linear interpolation to fill missing values (outliers)\n",
    "df[\"Price\"] = df[\"Price\"].interpolate(method=\"linear\")\n",
    "\n",
    "# Save the updated dataset\n",
    "df.to_csv(\"Aluminium_Historical_Data_Interpolated.csv\", index=False)\n",
    "\n",
    "print(\"Outliers removed using interpolation. Cleaned file saved.\")\n"
   ]
  },
  {
   "cell_type": "code",
   "execution_count": 101,
   "id": "2912566d-9cf6-43c2-9a15-3f785e368bdd",
   "metadata": {},
   "outputs": [
    {
     "data": {
      "text/html": [
       "<div>\n",
       "<style scoped>\n",
       "    .dataframe tbody tr th:only-of-type {\n",
       "        vertical-align: middle;\n",
       "    }\n",
       "\n",
       "    .dataframe tbody tr th {\n",
       "        vertical-align: top;\n",
       "    }\n",
       "\n",
       "    .dataframe thead th {\n",
       "        text-align: right;\n",
       "    }\n",
       "</style>\n",
       "<table border=\"1\" class=\"dataframe\">\n",
       "  <thead>\n",
       "    <tr style=\"text-align: right;\">\n",
       "      <th></th>\n",
       "      <th>Date</th>\n",
       "      <th>Price</th>\n",
       "    </tr>\n",
       "  </thead>\n",
       "  <tbody>\n",
       "    <tr>\n",
       "      <th>0</th>\n",
       "      <td>2020-01-13</td>\n",
       "      <td>1798.00</td>\n",
       "    </tr>\n",
       "    <tr>\n",
       "      <th>1</th>\n",
       "      <td>2020-01-14</td>\n",
       "      <td>1809.00</td>\n",
       "    </tr>\n",
       "    <tr>\n",
       "      <th>2</th>\n",
       "      <td>2020-01-15</td>\n",
       "      <td>1801.00</td>\n",
       "    </tr>\n",
       "    <tr>\n",
       "      <th>3</th>\n",
       "      <td>2020-01-16</td>\n",
       "      <td>1812.00</td>\n",
       "    </tr>\n",
       "    <tr>\n",
       "      <th>4</th>\n",
       "      <td>2020-01-17</td>\n",
       "      <td>1805.00</td>\n",
       "    </tr>\n",
       "    <tr>\n",
       "      <th>...</th>\n",
       "      <td>...</td>\n",
       "      <td>...</td>\n",
       "    </tr>\n",
       "    <tr>\n",
       "      <th>1882</th>\n",
       "      <td>2025-03-09</td>\n",
       "      <td>2608.05</td>\n",
       "    </tr>\n",
       "    <tr>\n",
       "      <th>1883</th>\n",
       "      <td>2025-03-10</td>\n",
       "      <td>2608.05</td>\n",
       "    </tr>\n",
       "    <tr>\n",
       "      <th>1884</th>\n",
       "      <td>2025-03-11</td>\n",
       "      <td>2608.05</td>\n",
       "    </tr>\n",
       "    <tr>\n",
       "      <th>1885</th>\n",
       "      <td>2025-03-12</td>\n",
       "      <td>2608.05</td>\n",
       "    </tr>\n",
       "    <tr>\n",
       "      <th>1886</th>\n",
       "      <td>2025-03-13</td>\n",
       "      <td>2608.05</td>\n",
       "    </tr>\n",
       "  </tbody>\n",
       "</table>\n",
       "<p>1887 rows × 2 columns</p>\n",
       "</div>"
      ],
      "text/plain": [
       "            Date    Price\n",
       "0     2020-01-13  1798.00\n",
       "1     2020-01-14  1809.00\n",
       "2     2020-01-15  1801.00\n",
       "3     2020-01-16  1812.00\n",
       "4     2020-01-17  1805.00\n",
       "...          ...      ...\n",
       "1882  2025-03-09  2608.05\n",
       "1883  2025-03-10  2608.05\n",
       "1884  2025-03-11  2608.05\n",
       "1885  2025-03-12  2608.05\n",
       "1886  2025-03-13  2608.05\n",
       "\n",
       "[1887 rows x 2 columns]"
      ]
     },
     "execution_count": 101,
     "metadata": {},
     "output_type": "execute_result"
    }
   ],
   "source": [
    "\n",
    "# after outliers replace\n",
    "\n",
    "dd = pd.read_csv(\"Aluminium_Historical_Data_Interpolated.csv\")\n",
    "dd"
   ]
  },
  {
   "cell_type": "code",
   "execution_count": 103,
   "id": "63ca5754-8eaa-4200-9af4-74732b3ac7a4",
   "metadata": {},
   "outputs": [
    {
     "data": {
      "image/png": "[encoded data removed]",
      "text/plain": [
       "<Figure size 600x400 with 1 Axes>"
      ]
     },
     "metadata": {},
     "output_type": "display_data"
    }
   ],
   "source": [
    "plt.figure(figsize=(6,4))\n",
    "sns.boxplot(y=dd['Price'], color='green')\n",
    "plt.ylabel(\"Price\")\n",
    "plt.title(\"Boxplot of Aluminium Prices\")\n",
    "plt.show()"
   ]
  },
  {
   "cell_type": "code",
   "execution_count": 105,
   "id": "90e5617f-004c-4073-9b8c-c3a200b1dec3",
   "metadata": {},
   "outputs": [
    {
     "data": {
      "image/png": "[encoded data removed]",
      "text/plain": [
       "<Figure size 800x500 with 1 Axes>"
      ]
     },
     "metadata": {},
     "output_type": "display_data"
    }
   ],
   "source": [
    "plt.figure(figsize=(8,5))\n",
    "sns.histplot(dd['Price'], bins=30, kde=True, color='blue')  # KDE adds a smooth curve\n",
    "plt.xlabel(\"Price\")\n",
    "plt.ylabel(\"Frequency\")\n",
    "plt.title(\"Histogram of Aluminium Prices\")\n",
    "plt.show()"
   ]
  },
  {
   "cell_type": "raw",
   "id": "ae3a1ab8-b282-4927-88e9-b68e66e32167",
   "metadata": {},
   "source": [
    "# Outlier Check Results:\n",
    "  Box Plot (above) shows no extreme spikes.\n",
    "  Remaining Outliers: Only 5 values detected, mostly from March 2020.\n"
   ]
  },
  {
   "cell_type": "code",
   "execution_count": null,
   "id": "07fd2c2c-3421-41f2-afd8-ef9acd6155d3",
   "metadata": {},
   "outputs": [],
   "source": []
  }
 ],
 "metadata": {
  "kernelspec": {
   "display_name": "Python [conda env:base] *",
   "language": "python",
   "name": "conda-base-py"
  },
  "language_info": {
   "codemirror_mode": {
    "name": "ipython",
    "version": 3
   },
   "file_extension": ".py",
   "mimetype": "text/x-python",
   "name": "python",
   "nbconvert_exporter": "python",
   "pygments_lexer": "ipython3",
   "version": "3.12.7"
  }
 },
 "nbformat": 4,
 "nbformat_minor": 5
}
