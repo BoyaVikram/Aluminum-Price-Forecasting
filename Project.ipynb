{
 "cells": [
  {
   "cell_type": "code",
   "execution_count": 8,
   "id": "9966aa66-227f-429e-abb5-58fcd1a8d32b",
   "metadata": {},
   "outputs": [
    {
     "data": {
      "text/html": [
       "<div>\n",
       "<style scoped>\n",
       "    .dataframe tbody tr th:only-of-type {\n",
       "        vertical-align: middle;\n",
       "    }\n",
       "\n",
       "    .dataframe tbody tr th {\n",
       "        vertical-align: top;\n",
       "    }\n",
       "\n",
       "    .dataframe thead th {\n",
       "        text-align: right;\n",
       "    }\n",
       "</style>\n",
       "<table border=\"1\" class=\"dataframe\">\n",
       "  <thead>\n",
       "    <tr style=\"text-align: right;\">\n",
       "      <th></th>\n",
       "      <th>Date</th>\n",
       "      <th>Price</th>\n",
       "      <th>Open</th>\n",
       "      <th>High</th>\n",
       "      <th>Low</th>\n",
       "      <th>Vol.</th>\n",
       "      <th>Change %</th>\n",
       "    </tr>\n",
       "  </thead>\n",
       "  <tbody>\n",
       "    <tr>\n",
       "      <th>0</th>\n",
       "      <td>Jun 22, 2022</td>\n",
       "      <td>2,528.00</td>\n",
       "      <td>2,509.00</td>\n",
       "      <td>2,528.00</td>\n",
       "      <td>2,464.00</td>\n",
       "      <td>-</td>\n",
       "      <td>-0.22%</td>\n",
       "    </tr>\n",
       "    <tr>\n",
       "      <th>1</th>\n",
       "      <td>Jun 21, 2022</td>\n",
       "      <td>2,533.50</td>\n",
       "      <td>2,526.00</td>\n",
       "      <td>2,530.00</td>\n",
       "      <td>2,526.00</td>\n",
       "      <td>-</td>\n",
       "      <td>0.26%</td>\n",
       "    </tr>\n",
       "    <tr>\n",
       "      <th>2</th>\n",
       "      <td>Jun 20, 2022</td>\n",
       "      <td>2,527.00</td>\n",
       "      <td>2,488.00</td>\n",
       "      <td>2,482.00</td>\n",
       "      <td>2,481.00</td>\n",
       "      <td>21.89K</td>\n",
       "      <td>1.16%</td>\n",
       "    </tr>\n",
       "    <tr>\n",
       "      <th>3</th>\n",
       "      <td>Jun 17, 2022</td>\n",
       "      <td>2,498.00</td>\n",
       "      <td>2,500.00</td>\n",
       "      <td>2,500.00</td>\n",
       "      <td>2,500.00</td>\n",
       "      <td>40.74K</td>\n",
       "      <td>-0.26%</td>\n",
       "    </tr>\n",
       "    <tr>\n",
       "      <th>4</th>\n",
       "      <td>Jun 16, 2022</td>\n",
       "      <td>2,504.50</td>\n",
       "      <td>2,535.00</td>\n",
       "      <td>2,529.00</td>\n",
       "      <td>2,525.00</td>\n",
       "      <td>56.34K</td>\n",
       "      <td>-3.39%</td>\n",
       "    </tr>\n",
       "    <tr>\n",
       "      <th>...</th>\n",
       "      <td>...</td>\n",
       "      <td>...</td>\n",
       "      <td>...</td>\n",
       "      <td>...</td>\n",
       "      <td>...</td>\n",
       "      <td>...</td>\n",
       "      <td>...</td>\n",
       "    </tr>\n",
       "    <tr>\n",
       "      <th>2023</th>\n",
       "      <td>Jun 20, 2014</td>\n",
       "      <td>1,888.50</td>\n",
       "      <td>1,888.50</td>\n",
       "      <td>1,888.50</td>\n",
       "      <td>1,888.50</td>\n",
       "      <td>18.51K</td>\n",
       "      <td>-0.11%</td>\n",
       "    </tr>\n",
       "    <tr>\n",
       "      <th>2024</th>\n",
       "      <td>Jun 19, 2014</td>\n",
       "      <td>1,890.50</td>\n",
       "      <td>1,890.50</td>\n",
       "      <td>1,890.50</td>\n",
       "      <td>1,890.50</td>\n",
       "      <td>26.66K</td>\n",
       "      <td>0.85%</td>\n",
       "    </tr>\n",
       "    <tr>\n",
       "      <th>2025</th>\n",
       "      <td>Jun 18, 2014</td>\n",
       "      <td>1,874.50</td>\n",
       "      <td>1,874.50</td>\n",
       "      <td>1,874.50</td>\n",
       "      <td>1,874.50</td>\n",
       "      <td>26.12K</td>\n",
       "      <td>1.21%</td>\n",
       "    </tr>\n",
       "    <tr>\n",
       "      <th>2026</th>\n",
       "      <td>Jun 17, 2014</td>\n",
       "      <td>1,852.00</td>\n",
       "      <td>1,852.00</td>\n",
       "      <td>1,852.00</td>\n",
       "      <td>1,852.00</td>\n",
       "      <td>45.55K</td>\n",
       "      <td>0.64%</td>\n",
       "    </tr>\n",
       "    <tr>\n",
       "      <th>2027</th>\n",
       "      <td>Jun 16, 2014</td>\n",
       "      <td>1,840.25</td>\n",
       "      <td>1,840.25</td>\n",
       "      <td>1,840.25</td>\n",
       "      <td>1,840.25</td>\n",
       "      <td>19.29K</td>\n",
       "      <td>0.34%</td>\n",
       "    </tr>\n",
       "  </tbody>\n",
       "</table>\n",
       "<p>2028 rows × 7 columns</p>\n",
       "</div>"
      ],
      "text/plain": [
       "              Date     Price      Open      High       Low    Vol. Change %\n",
       "0     Jun 22, 2022  2,528.00  2,509.00  2,528.00  2,464.00       -   -0.22%\n",
       "1     Jun 21, 2022  2,533.50  2,526.00  2,530.00  2,526.00       -    0.26%\n",
       "2     Jun 20, 2022  2,527.00  2,488.00  2,482.00  2,481.00  21.89K    1.16%\n",
       "3     Jun 17, 2022  2,498.00  2,500.00  2,500.00  2,500.00  40.74K   -0.26%\n",
       "4     Jun 16, 2022  2,504.50  2,535.00  2,529.00  2,525.00  56.34K   -3.39%\n",
       "...            ...       ...       ...       ...       ...     ...      ...\n",
       "2023  Jun 20, 2014  1,888.50  1,888.50  1,888.50  1,888.50  18.51K   -0.11%\n",
       "2024  Jun 19, 2014  1,890.50  1,890.50  1,890.50  1,890.50  26.66K    0.85%\n",
       "2025  Jun 18, 2014  1,874.50  1,874.50  1,874.50  1,874.50  26.12K    1.21%\n",
       "2026  Jun 17, 2014  1,852.00  1,852.00  1,852.00  1,852.00  45.55K    0.64%\n",
       "2027  Jun 16, 2014  1,840.25  1,840.25  1,840.25  1,840.25  19.29K    0.34%\n",
       "\n",
       "[2028 rows x 7 columns]"
      ]
     },
     "execution_count": 8,
     "metadata": {},
     "output_type": "execute_result"
    }
   ],
   "source": [
    "import pandas as pd\n",
    "import matplotlib.pyplot as plt\n",
    "from statsmodels.tsa.arima.model import ARIMA\n",
    "\n",
    "# Load the data\n",
    "df = pd.read_csv(\"Aluminium Historical Data_2012.csv\")\n",
    "df"
   ]
  },
  {
   "cell_type": "code",
   "execution_count": null,
   "id": "31fdf20f-bc72-41d7-8ca8-7a0de7b84582",
   "metadata": {},
   "outputs": [],
   "source": [
    "# Drop a specific column by its name\n",
    "df.drop('Change %', axis=1, inplace=True)\n",
    "print(df.head())\n",
    "\n",
    "df.drop('Vol.', axis=1, inplace=True)\n",
    "print(df.head())"
   ]
  },
  {
   "cell_type": "code",
   "execution_count": 28,
   "id": "e631a6bf-9e25-46bb-9ead-d16b9df892d3",
   "metadata": {},
   "outputs": [
    {
     "name": "stdout",
     "output_type": "stream",
     "text": [
      "           Date    Price      Open      High       Low\n",
      "2027 2014-06-16  1840.25  1,840.25  1,840.25  1,840.25\n",
      "2026 2014-06-17  1852.00  1,852.00  1,852.00  1,852.00\n",
      "2025 2014-06-18  1874.50  1,874.50  1,874.50  1,874.50\n",
      "2024 2014-06-19  1890.50  1,890.50  1,890.50  1,890.50\n",
      "2023 2014-06-20  1888.50  1,888.50  1,888.50  1,888.50\n"
     ]
    }
   ],
   "source": [
    "# Convert Date column to datetime format and sort by date\n",
    "df[\"Date\"] = pd.to_datetime(df[\"Date\"])\n",
    "df = df.sort_values(by=\"Date\")\n",
    "print(df.head())"
   ]
  },
  {
   "cell_type": "code",
   "execution_count": 30,
   "id": "d2ca68c8-f6c1-41de-8896-9003ef8e1920",
   "metadata": {},
   "outputs": [
    {
     "name": "stdout",
     "output_type": "stream",
     "text": [
      "           Date    Price      Open      High       Low\n",
      "2027 2014-06-16  1840.25  1,840.25  1,840.25  1,840.25\n",
      "2026 2014-06-17  1852.00  1,852.00  1,852.00  1,852.00\n",
      "2025 2014-06-18  1874.50  1,874.50  1,874.50  1,874.50\n",
      "2024 2014-06-19  1890.50  1,890.50  1,890.50  1,890.50\n",
      "2023 2014-06-20  1888.50  1,888.50  1,888.50  1,888.50\n"
     ]
    }
   ],
   "source": [
    "# Convert Price column to numeric values\n",
    "df[\"Price\"] = df[\"Price\"].replace(',', '', regex=True).astype(float)\n",
    "print(df.head())"
   ]
  },
  {
   "cell_type": "code",
   "execution_count": 32,
   "id": "5ede505e-7dbd-407a-992f-610e833cad89",
   "metadata": {},
   "outputs": [
    {
     "name": "stdout",
     "output_type": "stream",
     "text": [
      "              Price      Open      High       Low\n",
      "Date                                             \n",
      "2014-06-16  1840.25  1,840.25  1,840.25  1,840.25\n",
      "2014-06-17  1852.00  1,852.00  1,852.00  1,852.00\n",
      "2014-06-18  1874.50  1,874.50  1,874.50  1,874.50\n",
      "2014-06-19  1890.50  1,890.50  1,890.50  1,890.50\n",
      "2014-06-20  1888.50  1,888.50  1,888.50  1,888.50\n"
     ]
    }
   ],
   "source": [
    "# Use only the Date and Price columns for time series analysis\n",
    "df.set_index(\"Date\", inplace=True)\n",
    "print(df.head())"
   ]
  },
  {
   "cell_type": "code",
   "execution_count": 34,
   "id": "d3232f30-bc77-452c-85aa-7026d2070f2a",
   "metadata": {},
   "outputs": [
    {
     "name": "stderr",
     "output_type": "stream",
     "text": [
      "C:\\Users\\User\\anaconda3\\Lib\\site-packages\\statsmodels\\tsa\\base\\tsa_model.py:473: ValueWarning: A date index has been provided, but it has no associated frequency information and so will be ignored when e.g. forecasting.\n",
      "  self._init_dates(dates, freq)\n",
      "C:\\Users\\User\\anaconda3\\Lib\\site-packages\\statsmodels\\tsa\\base\\tsa_model.py:473: ValueWarning: A date index has been provided, but it has no associated frequency information and so will be ignored when e.g. forecasting.\n",
      "  self._init_dates(dates, freq)\n",
      "C:\\Users\\User\\anaconda3\\Lib\\site-packages\\statsmodels\\tsa\\base\\tsa_model.py:473: ValueWarning: A date index has been provided, but it has no associated frequency information and so will be ignored when e.g. forecasting.\n",
      "  self._init_dates(dates, freq)\n"
     ]
    },
    {
     "name": "stdout",
     "output_type": "stream",
     "text": [
      "              Price      Open      High       Low\n",
      "Date                                             \n",
      "2014-06-16  1840.25  1,840.25  1,840.25  1,840.25\n",
      "2014-06-17  1852.00  1,852.00  1,852.00  1,852.00\n",
      "2014-06-18  1874.50  1,874.50  1,874.50  1,874.50\n",
      "2014-06-19  1890.50  1,890.50  1,890.50  1,890.50\n",
      "2014-06-20  1888.50  1,888.50  1,888.50  1,888.50\n"
     ]
    }
   ],
   "source": [
    "# Fit an ARIMA model (AutoRegressive Integrated Moving Average)\n",
    "model = ARIMA(df[\"Price\"], order=(5,1,0))  # Example order (p,d,q)\n",
    "model_fit = model.fit()\n",
    "print(df.head())"
   ]
  },
  {
   "cell_type": "code",
   "execution_count": 36,
   "id": "83ce5eee-81e2-41b4-b7f7-91d6521bc766",
   "metadata": {},
   "outputs": [
    {
     "name": "stdout",
     "output_type": "stream",
     "text": [
      "              Price      Open      High       Low\n",
      "Date                                             \n",
      "2014-06-16  1840.25  1,840.25  1,840.25  1,840.25\n",
      "2014-06-17  1852.00  1,852.00  1,852.00  1,852.00\n",
      "2014-06-18  1874.50  1,874.50  1,874.50  1,874.50\n",
      "2014-06-19  1890.50  1,890.50  1,890.50  1,890.50\n",
      "2014-06-20  1888.50  1,888.50  1,888.50  1,888.50\n"
     ]
    },
    {
     "name": "stderr",
     "output_type": "stream",
     "text": [
      "C:\\Users\\User\\anaconda3\\Lib\\site-packages\\statsmodels\\tsa\\base\\tsa_model.py:836: ValueWarning: No supported index is available. Prediction results will be given with an integer index beginning at `start`.\n",
      "  return get_prediction_index(\n",
      "C:\\Users\\User\\anaconda3\\Lib\\site-packages\\statsmodels\\tsa\\base\\tsa_model.py:836: FutureWarning: No supported index is available. In the next version, calling this method in a model without a supported index will result in an exception.\n",
      "  return get_prediction_index(\n"
     ]
    }
   ],
   "source": [
    "# Forecast the next 30 days\n",
    "forecast_steps = 30\n",
    "forecast = model_fit.forecast(steps=forecast_steps)\n",
    "print(df.head())"
   ]
  },
  {
   "cell_type": "code",
   "execution_count": 38,
   "id": "545d8bc4-1370-4594-b9d5-a68689f0bd65",
   "metadata": {},
   "outputs": [
    {
     "data": {
      "image/png": "[encoded data removed]",
      "text/plain": [
       "<Figure size 1200x600 with 1 Axes>"
      ]
     },
     "metadata": {},
     "output_type": "display_data"
    }
   ],
   "source": [
    "# Plot the historical prices and the forecast\n",
    "plt.figure(figsize=(12,6))\n",
    "plt.plot(df.index, df[\"Price\"], label=\"Historical Prices\", color=\"blue\")\n",
    "plt.plot(pd.date_range(df.index[-1], periods=forecast_steps+1, freq=\"D\")[1:], forecast, label=\"Forecast\", color=\"red\")\n",
    "plt.xlabel(\"Date\")\n",
    "plt.ylabel(\"Aluminum Price (USD)\")\n",
    "plt.title(\"Aluminum Price Prediction\")\n",
    "plt.legend()\n",
    "plt.grid()\n",
    "plt.show()"
   ]
  },
  {
   "cell_type": "code",
   "execution_count": 40,
   "id": "d366b527-c8bc-40c1-8f63-a3c5937828be",
   "metadata": {},
   "outputs": [
    {
     "name": "stdout",
     "output_type": "stream",
     "text": [
      "Future Price Predictions:\n",
      "2028    2525.747310\n",
      "2029    2526.391424\n",
      "2030    2527.075763\n",
      "2031    2527.034080\n",
      "2032    2526.890336\n",
      "2033    2526.864171\n",
      "2034    2526.894376\n",
      "2035    2526.904193\n",
      "2036    2526.900283\n",
      "2037    2526.896942\n",
      "2038    2526.897359\n",
      "2039    2526.898076\n",
      "2040    2526.898171\n",
      "2041    2526.898007\n",
      "2042    2526.897966\n",
      "2043    2526.897989\n",
      "2044    2526.898005\n",
      "2045    2526.898002\n",
      "2046    2526.897998\n",
      "2047    2526.897998\n",
      "2048    2526.897999\n",
      "2049    2526.897999\n",
      "2050    2526.897999\n",
      "2051    2526.897999\n",
      "2052    2526.897999\n",
      "2053    2526.897999\n",
      "2054    2526.897999\n",
      "2055    2526.897999\n",
      "2056    2526.897999\n",
      "2057    2526.897999\n",
      "Name: predicted_mean, dtype: float64\n"
     ]
    }
   ],
   "source": [
    "# Display forecasted prices\n",
    "print(\"Future Price Predictions:\")\n",
    "print(forecast)"
   ]
  },
  {
   "cell_type": "code",
   "execution_count": 42,
   "id": "c9e8a352-5c34-4538-8ed0-b398bf10a4e5",
   "metadata": {},
   "outputs": [
    {
     "name": "stdout",
     "output_type": "stream",
     "text": [
      "\n",
      "Based on our model, the aluminum price is expected to stabilize around 2526.90 USD over the next 30 days, with minimal fluctuations. This forecast provides a general trend but may vary due to market conditions and external factors.\n"
     ]
    }
   ],
   "source": [
    "# Additional text for future predictions\n",
    "print(\"\\nBased on our model, the aluminum price is expected to stabilize around 2526.90 USD over the next 30 days, with minimal fluctuations. This forecast provides a general trend but may vary due to market conditions and external factors.\")\n"
   ]
  },
  {
   "cell_type": "code",
   "execution_count": null,
   "id": "91b67e76-7ea3-4191-8663-4dbed836beaa",
   "metadata": {},
   "outputs": [],
   "source": []
  },
  {
   "cell_type": "code",
   "execution_count": null,
   "id": "8e09c5c1-3f46-4bdc-b12d-3f29ed1ef532",
   "metadata": {},
   "outputs": [],
   "source": []
  },
  {
   "cell_type": "code",
   "execution_count": null,
   "id": "10fc0c17-d9d7-409e-a1d0-3dd29ba2a61f",
   "metadata": {},
   "outputs": [],
   "source": []
  }
 ],
 "metadata": {
  "kernelspec": {
   "display_name": "Python [conda env:base] *",
   "language": "python",
   "name": "conda-base-py"
  },
  "language_info": {
   "codemirror_mode": {
    "name": "ipython",
    "version": 3
   },
   "file_extension": ".py",
   "mimetype": "text/x-python",
   "name": "python",
   "nbconvert_exporter": "python",
   "pygments_lexer": "ipython3",
   "version": "3.12.7"
  }
 },
 "nbformat": 4,
 "nbformat_minor": 5
}
